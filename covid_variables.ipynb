{
 "cells": [
  {
   "cell_type": "code",
   "execution_count": 1,
   "id": "8b893eb0-15d0-455f-9f86-2784543d5928",
   "metadata": {
    "tags": []
   },
   "outputs": [],
   "source": [
    "# Import packages\n",
    "import pyspark\n",
    "import dxpy\n",
    "import dxdata\n",
    "from pyspark.sql.functions import concat_ws\n",
    "import warnings\n",
    "warnings.filterwarnings('ignore')"
   ]
  },
  {
   "cell_type": "code",
   "execution_count": 2,
   "id": "01300908-3693-42bd-b685-7662da09ec54",
   "metadata": {
    "tags": []
   },
   "outputs": [],
   "source": [
    "# Spark initialization (Done only once; do not rerun this cell unless you select Kernel -> Restart kernel).\n",
    "sc = pyspark.SparkContext()\n",
    "spark = pyspark.sql.SparkSession(sc)"
   ]
  },
  {
   "cell_type": "code",
   "execution_count": 3,
   "id": "caddb1b3-1fc6-416a-baee-15da30bc0700",
   "metadata": {
    "tags": []
   },
   "outputs": [],
   "source": [
    "# Automatically discover dispensed database name and dataset id\n",
    "dispensed_database = dxpy.find_one_data_object(\n",
    "    classname='database', \n",
    "    name='app*', \n",
    "    folder='/', \n",
    "    name_mode='glob', \n",
    "    describe=True)\n",
    "dispensed_database_name = dispensed_database['describe']['name']\n",
    "\n",
    "dispensed_dataset = dxpy.find_one_data_object(\n",
    "    typename='Dataset', \n",
    "    name='app*.dataset', \n",
    "    folder='/', \n",
    "    name_mode='glob')\n",
    "dispensed_dataset_id = dispensed_dataset['id']"
   ]
  },
  {
   "cell_type": "code",
   "execution_count": 4,
   "id": "97e9904c-4b68-414c-a458-67c50a3b4972",
   "metadata": {
    "tags": []
   },
   "outputs": [],
   "source": [
    "# Load dataset\n",
    "dataset = dxdata.load_dataset(id=dispensed_dataset_id)\n",
    "engine = dxdata.connect()\n",
    "dataset.entities\n",
    "participant = dataset[\"participant\"]"
   ]
  },
  {
   "cell_type": "code",
   "execution_count": 5,
   "id": "206b1c37-3efc-48be-a725-165e94854ff7",
   "metadata": {
    "tags": []
   },
   "outputs": [],
   "source": [
    "# Create function to look up fields based on the field ID\n",
    "def fields_for_id(field_id):\n",
    "    from distutils.version import LooseVersion\n",
    "    field_id = str(field_id)\n",
    "    fields = participant.find_fields(name_regex=r'^p{}(_i\\d+)?(_a\\d+)?$'.format(field_id))\n",
    "    return sorted(fields, key=lambda f: LooseVersion(f.name))\n",
    "\n",
    "def field_names_for_id(field_id):\n",
    "    return [f.name for f in fields_for_id(field_id)]"
   ]
  },
  {
   "cell_type": "code",
   "execution_count": 6,
   "id": "3e2ed3cc-2938-4e21-a25f-e68701690d19",
   "metadata": {
    "tags": []
   },
   "outputs": [
    {
     "name": "stdout",
     "output_type": "stream",
     "text": [
      "['31040', '31041', '31042', '31043', '31044', '31045', '31046', '31047', '31048', '31049', '29156', '29157', '29158', '29159', '29160', '29161', '29207', '29207', '28010', '28011', '28012', '28013', '28014', '28015', '28016', '28017', '28018', '28019', '28020', '28021', '28022', '28023', '28024', '28025', '28026', '28027', '28028', '28029', '28030', '28031', '28032', '28033', '27990', '27991', '27992', '27993']\n"
     ]
    }
   ],
   "source": [
    "field_ids = [\n",
    "    str(x) for x in range(31040, 31050)\n",
    "] + [\n",
    "    str(x) for x in range(29156, 29162)\n",
    "] + [\n",
    "    '29207', '29207'\n",
    "] + [\n",
    "    str(x) for x in range(28010, 28034)\n",
    "] + [\n",
    "    str(x) for x in range(27990, 27994)\n",
    "]\n",
    "print(field_ids)"
   ]
  },
  {
   "cell_type": "code",
   "execution_count": 7,
   "id": "27728d10-633c-422e-81fd-3efca1dffcd1",
   "metadata": {
    "tags": []
   },
   "outputs": [
    {
     "data": {
      "text/plain": [
       "<bound method DataFrame.head of DataFrame[eid: string, p31040_i2: double, p31040_i3: double, p31041_i2: double, p31041_i3: double, p31042_i2: double, p31042_i3: double, p31043_i2: double, p31043_i3: double, p31044_i2: double, p31044_i3: double, p31045_i2: bigint, p31045_i3: bigint, p31046_i2: bigint, p31046_i3: bigint, p31047_i2_a0: string, p31047_i2_a1: string, p31047_i3_a0: string, p31047_i3_a1: string, p31048_i2: string, p31048_i3: string, p31049_i2: string, p31049_i3: string, p29156: string, p29157: string, p29158: string, p29159: string, p29160: string, p29161: string, p29207: date, p28010_i0: string, p28010_i1: string, p28010_i2: string, p28010_i3: string, p28010_i4: string, p28010_i5: string, p28010_i6: string, p28010_i7: string, p28010_i8: string, p28011_i0: string, p28011_i1: string, p28011_i2: string, p28011_i3: string, p28011_i4: string, p28011_i5: string, p28011_i6: string, p28011_i7: string, p28011_i8: string, p28012_i0: string, p28012_i1: string, p28012_i2: string, p28012_i3: string, p28012_i4: string, p28012_i5: string, p28012_i6: string, p28012_i7: string, p28012_i8: string, p28013_i0: string, p28013_i1: string, p28013_i2: string, p28013_i3: string, p28013_i4: string, p28013_i5: string, p28013_i6: string, p28013_i7: string, p28013_i8: string, p28014_i0: string, p28014_i1: string, p28014_i2: string, p28014_i3: string, p28014_i4: string, p28014_i5: string, p28014_i6: string, p28014_i7: string, p28014_i8: string, p28015_i0: string, p28015_i1: string, p28015_i2: string, p28015_i3: string, p28015_i4: string, p28015_i5: string, p28015_i6: string, p28015_i7: string, p28015_i8: string, p28016_i0: string, p28016_i1: string, p28016_i2: string, p28016_i3: string, p28016_i4: string, p28016_i5: string, p28016_i6: string, p28016_i7: string, p28016_i8: string, p28017_i0: string, p28017_i1: string, p28017_i2: string, p28017_i3: string, p28017_i4: string, p28017_i5: string, p28017_i6: string, p28017_i7: string, p28017_i8: string, p28018_i0: string, p28018_i1: string, p28018_i2: string, p28018_i3: string, p28018_i4: string, p28018_i5: string, p28018_i6: string, p28018_i7: string, p28018_i8: string, p28019_i0: string, p28019_i1: string, p28019_i2: string, p28019_i3: string, p28019_i4: string, p28019_i5: string, p28019_i6: string, p28019_i7: string, p28019_i8: string, p28020_i0: string, p28020_i1: string, p28020_i2: string, p28020_i3: string, p28020_i4: string, p28020_i5: string, p28020_i6: string, p28020_i7: string, p28020_i8: string, p28021_i0: string, p28021_i1: string, p28021_i2: string, p28021_i3: string, p28021_i4: string, p28021_i5: string, p28021_i6: string, p28021_i7: string, p28021_i8: string, p28022_i0: string, p28022_i1: string, p28022_i2: string, p28022_i3: string, p28022_i4: string, p28022_i5: string, p28022_i6: string, p28022_i7: string, p28022_i8: string, p28023_i0: string, p28023_i1: string, p28023_i2: string, p28023_i3: string, p28023_i4: string, p28023_i5: string, p28023_i6: string, p28023_i7: string, p28023_i8: string, p28024_i0: string, p28024_i1: string, p28024_i2: string, p28024_i3: string, p28024_i4: string, p28024_i5: string, p28024_i6: string, p28024_i7: string, p28024_i8: string, p28025_i0: string, p28025_i1: string, p28025_i2: string, p28025_i3: string, p28025_i4: string, p28025_i5: string, p28025_i6: string, p28025_i7: string, p28025_i8: string, p28026_i0: string, p28026_i1: string, p28026_i2: string, p28026_i3: string, p28026_i4: string, p28026_i5: string, p28026_i6: string, p28026_i7: string, p28026_i8: string, p28027_i0: string, p28027_i1: string, p28027_i2: string, p28027_i3: string, p28027_i4: string, p28027_i5: string, p28027_i6: string, p28027_i7: string, p28027_i8: string, p28028_i0: string, p28028_i1: string, p28028_i2: string, p28028_i3: string, p28028_i4: string, p28028_i5: string, p28028_i6: string, p28028_i7: string, p28028_i8: string, p28029_i0: string, p28029_i1: string, p28029_i2: string, p28029_i3: string, p28029_i4: string, p28029_i5: string, p28029_i6: string, p28029_i7: string, p28029_i8: string, p28030_i0: string, p28030_i1: string, p28030_i2: string, p28030_i3: string, p28030_i4: string, p28030_i5: string, p28030_i6: string, p28031_i0: string, p28031_i1: string, p28031_i2: string, p28031_i3: string, p28031_i4: string, p28031_i5: string, p28032_i0: string, p28032_i1: string, p28032_i2: string, p28032_i3: string, p28032_i4: string, p28032_i5: string, p28032_i6: string, p28032_i7: string, p28032_i8: string, p28033_i2: date, p28033_i3: date, p28033_i4: date, p28033_i5: date, p28033_i6: date, p27990: string, p27991: date, p27992: date, p27993: string]>"
      ]
     },
     "execution_count": 7,
     "metadata": {},
     "output_type": "execute_result"
    }
   ],
   "source": [
    "# Add all relevant fields for outcome and covariates\n",
    "field_names = [field_names_for_id(x) for x in field_ids]\n",
    "field_names_flat = ['eid'] + [x for l in field_names for x in l]\n",
    "covid = participant.retrieve_fields(names=field_names_flat, engine=dxdata.connect(), coding_values=\"replace\")\n",
    "covid.head"
   ]
  },
  {
   "cell_type": "code",
   "execution_count": 8,
   "id": "dd1b5705-aa2d-4188-889c-e6649d50b5ed",
   "metadata": {
    "tags": []
   },
   "outputs": [],
   "source": [
    "covid_pandas = covid.toPandas()\n",
    "covid_pandas.head()\n",
    "covid_pandas.to_csv('covid.csv', index=False)"
   ]
  },
  {
   "cell_type": "code",
   "execution_count": null,
   "id": "645f4772-0a10-4332-b5e5-e292a36c802a",
   "metadata": {},
   "outputs": [],
   "source": [
    "dxpy.upload_local_file(\"covid_variables.ipynb\")\n",
    "dxpy.upload_local_file(\"covid.csv\")"
   ]
  }
 ],
 "metadata": {
  "kernelspec": {
   "display_name": "Python 3 (ipykernel)",
   "language": "python",
   "name": "python3"
  },
  "language_info": {
   "codemirror_mode": {
    "name": "ipython",
    "version": 3
   },
   "file_extension": ".py",
   "mimetype": "text/x-python",
   "name": "python",
   "nbconvert_exporter": "python",
   "pygments_lexer": "ipython3",
   "version": "3.9.16"
  }
 },
 "nbformat": 4,
 "nbformat_minor": 5
}
